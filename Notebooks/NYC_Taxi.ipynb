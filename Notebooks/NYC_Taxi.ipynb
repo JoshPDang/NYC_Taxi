{
 "cells": [
  {
   "cell_type": "code",
   "execution_count": 5,
   "id": "484bc494",
   "metadata": {},
   "outputs": [
    {
     "name": "stdout",
     "output_type": "stream",
     "text": [
      "Collecting pyspark\n",
      "  Downloading pyspark-3.5.3.tar.gz (317.3 MB)\n",
      "\u001b[2K     \u001b[90m━━━━━━━━━━━━━━━━━━━━━━━━━━━━━━━━━━━━━━━\u001b[0m \u001b[32m317.3/317.3 MB\u001b[0m \u001b[31m6.6 MB/s\u001b[0m eta \u001b[36m0:00:00\u001b[0m00:01\u001b[0m00:02\u001b[0m\n",
      "\u001b[?25h  Preparing metadata (setup.py) ... \u001b[?25ldone\n",
      "\u001b[?25hRequirement already satisfied: py4j==0.10.9.7 in /Users/phuocdang/.pyenv/versions/3.10.9/lib/python3.10/site-packages (from pyspark) (0.10.9.7)\n",
      "Building wheels for collected packages: pyspark\n",
      "  Building wheel for pyspark (setup.py) ... \u001b[?25ldone\n",
      "\u001b[?25h  Created wheel for pyspark: filename=pyspark-3.5.3-py2.py3-none-any.whl size=317840629 sha256=7651bceb591c93b4a3474d1856e5c7dd4bfe8dd5d727a11303681279cc578bc8\n",
      "  Stored in directory: /Users/phuocdang/Library/Caches/pip/wheels/1b/3a/92/28b93e2fbfdbb07509ca4d6f50c5e407f48dce4ddbda69a4ab\n",
      "Successfully built pyspark\n",
      "Installing collected packages: pyspark\n",
      "Successfully installed pyspark-3.5.3\n"
     ]
    }
   ],
   "source": [
    "!pip install pyspark"
   ]
  },
  {
   "cell_type": "code",
   "execution_count": 1,
   "id": "40072b33-0cdf-4562-9ad2-c3aba207cfbd",
   "metadata": {},
   "outputs": [
    {
     "name": "stderr",
     "output_type": "stream",
     "text": [
      "Setting default log level to \"WARN\".\n",
      "To adjust logging level use sc.setLogLevel(newLevel). For SparkR, use setLogLevel(newLevel).\n",
      "24/10/09 21:09:47 WARN NativeCodeLoader: Unable to load native-hadoop library for your platform... using builtin-java classes where applicable\n"
     ]
    }
   ],
   "source": [
    "from pyspark.sql import SparkSession\n",
    "\n",
    "spark = SparkSession.builder \\\n",
    "    .appName(\"NYC Taxi\") \\\n",
    "    .getOrCreate()\n"
   ]
  },
  {
   "cell_type": "code",
   "execution_count": 2,
   "id": "db4accb2-751d-4400-bc9b-ee80fef891cf",
   "metadata": {},
   "outputs": [],
   "source": [
    "from pyspark.sql.types import StructType, StructField, StringType, IntegerType, FloatType, BooleanType, DoubleType, DateType, TimestampType, LongType\n",
    "\n",
    "#schema for taxi dataframe\n",
    "df_taxi_schema = StructType(fields=[StructField(\"VendorID\", IntegerType(), True),\\\n",
    "                               StructField(\"tpep_pickup_datetime\", TimestampType(), True),\\\n",
    "                               StructField(\"tpep_dropoff_datetime\", TimestampType(), True),\\\n",
    "                               StructField(\"passenger_count\", LongType(), True),\\\n",
    "                               StructField(\"trip_distance\", DoubleType(), True),\\\n",
    "                               StructField(\"RatecodeID\", LongType(), True),\\\n",
    "                               StructField(\"store_and_fwd_flag\", StringType(), True),\\\n",
    "                               StructField(\"PULocationID\", IntegerType(), True),\\\n",
    "                               StructField(\"DOLocationID\", IntegerType(),True),\\\n",
    "                               StructField(\"payment_type\", LongType(), True),\\\n",
    "                               StructField(\"fare_amount\", DoubleType(), True),\\\n",
    "                               StructField(\"extra\", DoubleType(), True),\\\n",
    "                               StructField(\"mta_tax\", DoubleType(), True),\\\n",
    "                               StructField(\"tip_amount\", DoubleType(), True),\\\n",
    "                               StructField(\"tolls_amount\", DoubleType(), True),\\\n",
    "                               StructField(\"improvement_surcharge\", DoubleType(), True),\\\n",
    "                               StructField(\"total_amount\", DoubleType(), True),\\\n",
    "                               StructField(\"congestion_surcharge\", DoubleType(), True),\\\n",
    "                               StructField(\"Airport_fee\", DoubleType(), True)])\n",
    "\n",
    "#schema for location\n",
    "location_schema = StructType(fields=[StructField(\"LocationID\", IntegerType(), True),\\\n",
    "                                        StructField(\"Borough\", StringType(), True),\\\n",
    "                                        StructField(\"Zone\", StringType(), True),\\\n",
    "                                        StructField(\"service_zone\", StringType(), True)])\n",
    "                               "
   ]
  },
  {
   "cell_type": "code",
   "execution_count": 3,
   "id": "82341b0b-c549-4ef4-abe9-145ad26bd759",
   "metadata": {},
   "outputs": [],
   "source": [
    "#load taxi and location dataframe\n",
    "taxi_df = spark.read\\\n",
    "        .option('header', True)\\\n",
    "        .schema(df_taxi_schema)\\\n",
    "        .parquet('yellow_tripdata_2024-01.parquet')\n",
    "\n",
    "location_df = spark.read\\\n",
    "                .option(\"header\", True)\\\n",
    "                .schema(location_schema)\\\n",
    "                .csv(\"taxi_zone_lookup.csv\")"
   ]
  },
  {
   "cell_type": "code",
   "execution_count": 4,
   "id": "bb4829cf-992c-4e02-9980-ac624fae43fe",
   "metadata": {},
   "outputs": [],
   "source": [
    "from pyspark.sql.functions import col\n",
    "\n",
    "#Create a DataFrame for the pickup location with 'PU' prefix\n",
    "location_df_pu = location_df.select([col(c).alias(f\"PU{c}\") if c != \"PULocationID\" else col(c) for c in location_df.columns])\n",
    "\n",
    "# Perform left join between taxi_df and location_df_pu on PULocationID\n",
    "df = taxi_df.join(location_df_pu, on=\"PULocationID\", how=\"left\")\n",
    "\n",
    "#Create a separate DataFrame for the drop-off location with 'DO' prefix\n",
    "location_df_do = location_df.select([col(c).alias(f\"DO{c}\") if c != \"DO_LocationID\" else col(c) for c in location_df.columns])\n",
    "\n",
    "# Perform left join between the already joined DataFrame and location_df_do on DOLocationID\n",
    "df = df.join(location_df_do, on=\"DOLocationID\", how=\"left\")"
   ]
  },
  {
   "cell_type": "code",
   "execution_count": 5,
   "id": "793d3280",
   "metadata": {},
   "outputs": [
    {
     "data": {
      "text/plain": [
       "['DOLocationID',\n",
       " 'PULocationID',\n",
       " 'VendorID',\n",
       " 'tpep_pickup_datetime',\n",
       " 'tpep_dropoff_datetime',\n",
       " 'passenger_count',\n",
       " 'trip_distance',\n",
       " 'RatecodeID',\n",
       " 'store_and_fwd_flag',\n",
       " 'payment_type',\n",
       " 'fare_amount',\n",
       " 'extra',\n",
       " 'mta_tax',\n",
       " 'tip_amount',\n",
       " 'tolls_amount',\n",
       " 'improvement_surcharge',\n",
       " 'total_amount',\n",
       " 'congestion_surcharge',\n",
       " 'Airport_fee',\n",
       " 'PUBorough',\n",
       " 'PUZone',\n",
       " 'PUservice_zone',\n",
       " 'DOBorough',\n",
       " 'DOZone',\n",
       " 'DOservice_zone']"
      ]
     },
     "execution_count": 5,
     "metadata": {},
     "output_type": "execute_result"
    }
   ],
   "source": [
    "df.columns"
   ]
  },
  {
   "cell_type": "code",
   "execution_count": 6,
   "id": "f15d9fc3-2a2a-4157-9fc6-6119dd968e0c",
   "metadata": {},
   "outputs": [],
   "source": [
    "#remove unnecessary columns\n",
    "df = df.select([\"tpep_pickup_datetime\", \"tpep_dropoff_datetime\", \"RatecodeID\", \"PULocationID\", \"DOLocationID\",\\\n",
    "                        \"passenger_count\", \"trip_distance\", \"fare_amount\", \"tip_amount\", \"payment_type\",\\\n",
    "                        \"PUBorough\",\"PUZone\",\"PUservice_zone\",\"DOBorough\", \"DOZone\", \"DOservice_zone\"]) "
   ]
  },
  {
   "cell_type": "code",
   "execution_count": 7,
   "id": "5bdd6b0a-3866-4dd9-9476-f15728625025",
   "metadata": {},
   "outputs": [],
   "source": [
    "#all fare amounts should be treated as positive\n",
    "from pyspark.sql.functions import abs, avg, when, col, sum, median\n",
    "df = df.withColumn(\"fare_amount\", abs(df[\"fare_amount\"]))"
   ]
  },
  {
   "cell_type": "code",
   "execution_count": 8,
   "id": "a674c6a2-a34f-46ef-80c9-3636ba0a66e8",
   "metadata": {},
   "outputs": [
    {
     "name": "stderr",
     "output_type": "stream",
     "text": [
      "                                                                                \r"
     ]
    }
   ],
   "source": [
    "#fill missing tip_amount values by an average value\n",
    "avg_tip = df.select(avg(\"tip_amount\")).collect()[0][0]\n",
    "df = df.fillna({\"tip_amount\": avg_tip})"
   ]
  },
  {
   "cell_type": "code",
   "execution_count": 9,
   "id": "3a3ca224-80e1-4f8b-a94e-0a1f74e3f7f2",
   "metadata": {},
   "outputs": [],
   "source": [
    "#filter for fare_amount and trip_distance values to be greater than 0\n",
    "df = df.filter((col(\"fare_amount\") > 0) & (col(\"trip_distance\") > 0))"
   ]
  },
  {
   "cell_type": "code",
   "execution_count": 127,
   "id": "892f7457-2547-49c5-bb22-a83257007fc4",
   "metadata": {},
   "outputs": [
    {
     "name": "stderr",
     "output_type": "stream",
     "text": [
      "                                                                                \r"
     ]
    }
   ],
   "source": [
    "#fill missing passenger_count by median values\n",
    "median_passenger_count = df.approxQuantile(\"passenger_count\", [0.5], 0.01)[0]\n",
    "df = df.fillna({\"passenger_count\": median_passenger_count})"
   ]
  },
  {
   "cell_type": "code",
   "execution_count": 10,
   "id": "8f07f530-9e9a-4e47-9e4f-acb6458843e6",
   "metadata": {},
   "outputs": [],
   "source": [
    "#fill in missing values for RatecodeID\n",
    "\n",
    "# Step 1: Update RatecodeID based on conditions\n",
    "df = df.withColumn(\n",
    "    \"RatecodeID\",\n",
    "    when((col(\"RatecodeID\") == 4) & (col(\"PUBorough\") != \"Unknown\") & (col(\"DOBorough\") == \"EWR\"), 3)\n",
    "    .when((col(\"RatecodeID\") == 4) & (col(\"PUBorough\") != \"Unknown\") & (col(\"DOBorough\") != \"Unknown\"), 1)\n",
    "    .otherwise(col(\"RatecodeID\"))\n",
    ")\n",
    "\n",
    "# Step 2: Drop rows where PUBorough or DOBorough is 'Unknown'\n",
    "df = df.filter((col(\"PUBorough\") != \"Unknown\") & (col(\"DOBorough\") != \"Unknown\"))\n",
    "\n",
    "# Step 3: Replace RatecodeID == 99 with null (NaN in pandas)\n",
    "df = df.withColumn(\"RatecodeID\", when(col(\"RatecodeID\") == 99, None).otherwise(col(\"RatecodeID\")))\n",
    "\n",
    "# Step 4: Update RatecodeID for specific borough and zone conditions when RatecodeID is null\n",
    "df = df.withColumn(\n",
    "    \"RatecodeID\",\n",
    "    when((col(\"PUBorough\") == \"Manhattan\") & (col(\"DOZone\") == \"JFK Airport\") & col(\"RatecodeID\").isNull(), 2)\n",
    "    .when((col(\"PUZone\") == \"JFK Airport\") & (col(\"DOBorough\") == \"Manhattan\") & col(\"RatecodeID\").isNull(), 2)\n",
    "    .when((col(\"DOZone\") == \"Newark Airport\") & col(\"RatecodeID\").isNull(), 3)\n",
    "    .otherwise(col(\"RatecodeID\"))\n",
    ")\n",
    "\n",
    "# fill the rest with RatecodeID 1\n",
    "df = df.fillna({\"RatecodeID\":1})"
   ]
  },
  {
   "cell_type": "code",
   "execution_count": 14,
   "id": "f57bed65",
   "metadata": {},
   "outputs": [
    {
     "name": "stderr",
     "output_type": "stream",
     "text": [
      "                                                                                \r"
     ]
    },
    {
     "name": "stdout",
     "output_type": "stream",
     "text": [
      "+--------------------+---------------------+----------+------------+------------+---------------+-------------+-----------+----------+------------+---------+------+--------------+---------+------+--------------+\n",
      "|tpep_pickup_datetime|tpep_dropoff_datetime|RatecodeID|PULocationID|DOLocationID|passenger_count|trip_distance|fare_amount|tip_amount|payment_type|PUBorough|PUZone|PUservice_zone|DOBorough|DOZone|DOservice_zone|\n",
      "+--------------------+---------------------+----------+------------+------------+---------------+-------------+-----------+----------+------------+---------+------+--------------+---------+------+--------------+\n",
      "|                   0|                    0|         0|           0|           0|         116953|            0|          0|         0|           0|        0|     0|             0|        0|     0|             0|\n",
      "+--------------------+---------------------+----------+------------+------------+---------------+-------------+-----------+----------+------------+---------+------+--------------+---------+------+--------------+\n",
      "\n"
     ]
    }
   ],
   "source": [
    "from pyspark.sql.functions import col, sum\n",
    "\n",
    "# List comprehension to check for NULLs in each column\n",
    "null_counts = df.select([sum(col(c).isNull().cast(\"int\")).alias(c) for c in df.columns])\n",
    "\n",
    "# Show the result\n",
    "null_counts.show()\n"
   ]
  },
  {
   "cell_type": "code",
   "execution_count": null,
   "id": "5dc15446",
   "metadata": {},
   "outputs": [],
   "source": []
  }
 ],
 "metadata": {
  "kernelspec": {
   "display_name": "Python (ml_project)",
   "language": "python",
   "name": "ml_project"
  },
  "language_info": {
   "codemirror_mode": {
    "name": "ipython",
    "version": 3
   },
   "file_extension": ".py",
   "mimetype": "text/x-python",
   "name": "python",
   "nbconvert_exporter": "python",
   "pygments_lexer": "ipython3",
   "version": "3.10.9"
  }
 },
 "nbformat": 4,
 "nbformat_minor": 5
}
