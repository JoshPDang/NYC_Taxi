{
 "cells": [
  {
   "cell_type": "code",
   "execution_count": 0,
   "metadata": {
    "application/vnd.databricks.v1+cell": {
     "cellMetadata": {
      "byteLimit": 2048000,
      "rowLimit": 10000
     },
     "inputWidgets": {},
     "nuid": "af2ab59f-2e58-4fd5-845e-4476c22bf0ff",
     "showTitle": false,
     "title": ""
    }
   },
   "outputs": [],
   "source": [
    "from pyspark.sql.types import StructType, StructField, StringType, IntegerType, FloatType, BooleanType, DoubleType, DateType, TimestampType, LongType\n",
    "\n",
    "#schema for taxi dataframe\n",
    "df_taxi_schema = StructType(fields=[StructField(\"VendorID\", IntegerType(), True),\\\n",
    "                               StructField(\"tpep_pickup_datetime\", TimestampType(), True),\\\n",
    "                               StructField(\"tpep_dropoff_datetime\", TimestampType(), True),\\\n",
    "                               StructField(\"passenger_count\", LongType(), True),\\\n",
    "                               StructField(\"trip_distance\", DoubleType(), True),\\\n",
    "                               StructField(\"RatecodeID\", LongType(), True),\\\n",
    "                               StructField(\"store_and_fwd_flag\", StringType(), True),\\\n",
    "                               StructField(\"PULocationID\", IntegerType(), True),\\\n",
    "                               StructField(\"DOLocationID\", IntegerType(),True),\\\n",
    "                               StructField(\"payment_type\", LongType(), True),\\\n",
    "                               StructField(\"fare_amount\", DoubleType(), True),\\\n",
    "                               StructField(\"extra\", DoubleType(), True),\\\n",
    "                               StructField(\"mta_tax\", DoubleType(), True),\\\n",
    "                               StructField(\"tip_amount\", DoubleType(), True),\\\n",
    "                               StructField(\"tolls_amount\", DoubleType(), True),\\\n",
    "                               StructField(\"improvement_surcharge\", DoubleType(), True),\\\n",
    "                               StructField(\"total_amount\", DoubleType(), True),\\\n",
    "                               StructField(\"congestion_surcharge\", DoubleType(), True),\\\n",
    "                               StructField(\"Airport_fee\", DoubleType(), True)])\n",
    "\n",
    "#schema for location\n",
    "location_schema = StructType(fields=[StructField(\"LocationID\", IntegerType(), True),\\\n",
    "                                        StructField(\"Borough\", StringType(), True),\\\n",
    "                                        StructField(\"Zone\", StringType(), True),\\\n",
    "                                        StructField(\"service_zone\", StringType(), True)])\n",
    "                               "
   ]
  },
  {
   "cell_type": "code",
   "execution_count": 0,
   "metadata": {
    "application/vnd.databricks.v1+cell": {
     "cellMetadata": {
      "byteLimit": 2048000,
      "rowLimit": 10000
     },
     "inputWidgets": {},
     "nuid": "4a9f5cba-66c1-4ddd-916f-90ded5d5dbf6",
     "showTitle": false,
     "title": ""
    }
   },
   "outputs": [],
   "source": [
    "#load taxi and location dataframe\n",
    "taxi_df = spark.read\\\n",
    "        .option('header', True)\\\n",
    "        .schema(df_taxi_schema)\\\n",
    "        .parquet('/mnt/nyctaxiblobstoragecc/nyc-taxi-yellow/yellow_tripdata_2024-01.parquet')\n",
    "\n",
    "# location_df = spark.read\\\n",
    "#                 .option(\"header\", True)\\\n",
    "#                 .schema(location_schema)\\\n",
    "#                 .csv(\"/mnt/nyctaxiblobstoragecc/lookup/taxi_zone_lookup.csv\")"
   ]
  },
  {
   "cell_type": "code",
   "execution_count": 0,
   "metadata": {
    "application/vnd.databricks.v1+cell": {
     "cellMetadata": {
      "byteLimit": 2048000,
      "rowLimit": 10000
     },
     "inputWidgets": {},
     "nuid": "546a7349-1008-469e-bcb0-afe04e00d350",
     "showTitle": false,
     "title": ""
    }
   },
   "outputs": [],
   "source": [
    "#write the file with schema\n",
    "taxi_df.write.mode(\"overwrite\")\\\n",
    "    .option(\"header\", \"true\")\\\n",
    "    .parquet(\"/mnt/nyctaxiblobstoragecc/nyc-taxi-yellow/Jan\")"
   ]
  }
 ],
 "metadata": {
  "application/vnd.databricks.v1+notebook": {
   "dashboards": [],
   "environmentMetadata": null,
   "language": "python",
   "notebookMetadata": {
    "pythonIndentUnit": 4
   },
   "notebookName": "import_schema.py",
   "widgets": {}
  },
  "language_info": {
   "name": "python"
  }
 },
 "nbformat": 4,
 "nbformat_minor": 0
}
